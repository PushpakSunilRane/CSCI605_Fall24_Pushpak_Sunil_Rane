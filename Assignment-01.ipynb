{
 "cells": [
  {
   "cell_type": "code",
   "execution_count": 1,
   "id": "fb71422b-61f2-42eb-89f5-4c5650f9ab37",
   "metadata": {},
   "outputs": [],
   "source": [
    "#Assignment-01 Calculator "
   ]
  },
  {
   "cell_type": "code",
   "execution_count": null,
   "id": "6bc9b2cc-a2f9-422b-a2ed-579bdfcf08be",
   "metadata": {},
   "outputs": [],
   "source": [
    "print(\"Calculator for Basic Operations\")\n",
    "\n",
    "print(\"\\n1:Addition \\n2:Substraction \\n3:Multiplication \\n4:Division\\n\")\n",
    "\n",
    "\n",
    "while True:\n",
    "    select = int(input(\"Enter operation to perform -:\"))\n",
    "    \n",
    "    if select in (1,2,3,4):\n",
    "        try:\n",
    "            no1 = float(input(\"\\n\\nEnter number-1 :-\"))\n",
    "            no2 = float(input(\"Enter number-2 :-\"))\n",
    "        except ValueError:\n",
    "            print(\"Invalid input, enter correct input values...!!\\n\\n\")\n",
    "            continue\n",
    "            \n",
    "        if select == 1:\n",
    "            result = no1 + no2\n",
    "            print(f\"Addition of {no1} + {no2} =\",result,\"\\n\\n\")\n",
    "        elif select == 2:\n",
    "            result = no1 - no2\n",
    "            print(f\"Substraction of {no1} - {no2} =\",result,\"\\n\\n\")\n",
    "        elif select == 3:\n",
    "            result = no1 * no2\n",
    "            print(f\"Multiplication of {no1} * {no2} =\",result,\"\\n\\n\")\n",
    "        elif select == 4:\n",
    "            if no2 == 0:\n",
    "                print(\"Division Error\\n\\n\")\n",
    "            else:\n",
    "                result = no1/no2\n",
    "                print(f\"Division of {no1} / {no2} =\",result,\"\\n\\n\")\n",
    "  \n",
    "        calc = input(\"Do you want to perform another calculation (Y/N)\")\n",
    "        if calc != \"Y\":\n",
    "            print(\"Calculator Shutdown Successfully\\n\\n\")\n",
    "            break\n",
    "    else:\n",
    "        print(\"Invalid input...!!\\n\\n\")"
   ]
  },
  {
   "cell_type": "code",
   "execution_count": null,
   "id": "346b6668-a613-461d-b8e3-6c5ebe56afca",
   "metadata": {},
   "outputs": [],
   "source": []
  }
 ],
 "metadata": {
  "kernelspec": {
   "display_name": "Python 3 (ipykernel)",
   "language": "python",
   "name": "python3"
  },
  "language_info": {
   "codemirror_mode": {
    "name": "ipython",
    "version": 3
   },
   "file_extension": ".py",
   "mimetype": "text/x-python",
   "name": "python",
   "nbconvert_exporter": "python",
   "pygments_lexer": "ipython3",
   "version": "3.12.3"
  }
 },
 "nbformat": 4,
 "nbformat_minor": 5
}
