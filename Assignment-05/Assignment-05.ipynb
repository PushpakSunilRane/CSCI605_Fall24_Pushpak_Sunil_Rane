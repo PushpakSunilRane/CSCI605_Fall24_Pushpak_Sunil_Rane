{
 "cells": [
  {
   "cell_type": "markdown",
   "id": "7326c9d2-600f-4c4c-a462-a284faddbc56",
   "metadata": {},
   "source": [
    "## *Assignment-01* \n",
    "#### *Implement a Binary Search Tree (BST) where each node stores a key-value pair. The key will represent a name (as a string), and the value will represent a phone number (as a string or number). You will then implement a search functionality that allows you to find the phone number associated with a given name.*"
   ]
  },
  {
   "cell_type": "code",
   "execution_count": 49,
   "id": "f7149723-48b4-416b-b1dd-32985a4d886d",
   "metadata": {},
   "outputs": [
    {
     "name": "stdout",
     "output_type": "stream",
     "text": [
      "530-234-6079\n",
      "No records found in the database.\n",
      "\n",
      "Inorder Traversal:\n",
      " [('Alice', '530-234-6079'), ('Clay', '998-453-2307'), ('Pushpak', '530-233-4562'), ('Queen', '540-332-4532'), ('Ree', '765-342-5645'), ('See', '765-342-5645')]\n"
     ]
    }
   ],
   "source": [
    "#Created Class for BST-Node\n",
    "class TreeNode:                         \n",
    "    def __init__(self, key, value):\n",
    "        self.key = key                  #variable for name\n",
    "        self.value = value              #variable for number\n",
    "        self.left = None                #for left sub tree\n",
    "        self.right = None               #for right sub tree\n",
    "\n",
    "#Create BST\n",
    "class BinarySearchTree:                 \n",
    "    def __init__(self):\n",
    "        self.root = None\n",
    "    \n",
    "    #Function to Insert Data into BST\n",
    "    def insert(self,key,value):         \n",
    "        self.root = self._insert(self.root, key , value)\n",
    "\n",
    "    def _insert(self, node, key, value):   \n",
    "        if node is None:\n",
    "            return TreeNode(key,value)\n",
    "\n",
    "        if key < node.key:\n",
    "            node.left = self._insert(node.left, key,value)\n",
    "        else:\n",
    "            node.right = self._insert(node.right, key,value)\n",
    "        return node\n",
    "\n",
    "    #Function for Inorder Traversal\n",
    "    def inorder_traversal(self):       \n",
    "        result = []\n",
    "\n",
    "        def inorder(node):           \n",
    "            if node:\n",
    "                inorder(node.left)\n",
    "                result.append((node.key,node.value))\n",
    "                inorder(node.right)\n",
    "        inorder(self.root)\n",
    "        return result\n",
    "    \n",
    "    def search(self, key):\n",
    "        return self._search(self.root, key)\n",
    "    \n",
    "    def _search(self, node, key):\n",
    "        if node is None:\n",
    "            return \"No records found in the database.\"\n",
    "        if key == node.key:\n",
    "            return node.value\n",
    "        elif key < node.key:\n",
    "            return self._search(node.left, key)\n",
    "        else:\n",
    "            return self._search(node.right, key)\n",
    "    \n",
    "bst = BinarySearchTree()\n",
    "\n",
    "#Inserting records in BST\n",
    "bst.insert(\"Pushpak\", \"530-233-4562\")\n",
    "bst.insert(\"Clay\", \"998-453-2307\")\n",
    "bst.insert(\"Ree\", \"765-342-5645\")\n",
    "bst.insert(\"See\", \"765-342-5645\")\n",
    "bst.insert(\"Queen\", \"540-332-4532\")\n",
    "bst.insert(\"Alice\", \"530-234-6079\")\n",
    "\n",
    "#Search using Name\n",
    "print(bst.search(\"Alice\"))\n",
    "print(bst.search(\"Dravid\"))\n",
    "\n",
    "#Inorder Traversal\n",
    "print(\"\\nInorder Traversal:\\n\",bst.inorder_traversal())"
   ]
  }
 ],
 "metadata": {
  "kernelspec": {
   "display_name": "Python 3",
   "language": "python",
   "name": "python3"
  },
  "language_info": {
   "codemirror_mode": {
    "name": "ipython",
    "version": 3
   },
   "file_extension": ".py",
   "mimetype": "text/x-python",
   "name": "python",
   "nbconvert_exporter": "python",
   "pygments_lexer": "ipython3",
   "version": "3.12.7"
  }
 },
 "nbformat": 4,
 "nbformat_minor": 5
}
